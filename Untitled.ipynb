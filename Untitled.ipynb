{
 "cells": [
  {
   "cell_type": "code",
   "execution_count": 18,
   "metadata": {},
   "outputs": [],
   "source": [
    "import re\n",
    "\n",
    "pattern = '[варварцуекогр]{3,}'\n",
    "prog = re.compile( pattern )\n",
    "\n",
    "t = \"/media/polka/32a35f44-923f-4154-a615-b21b0ad7a4ce/Courses/2019/Нетология/Профессия - Data Scientist/Подготовка 1/DZ1/russian1.txt\""
   ]
  },
  {
   "cell_type": "code",
   "execution_count": 19,
   "metadata": {},
   "outputs": [
    {
     "name": "stdout",
     "output_type": "stream",
     "text": [
      "86084\n"
     ]
    }
   ],
   "source": [
    "\n",
    "with open(t, 'r') as text:\n",
    "    i = 0\n",
    "    for line in text:\n",
    "        line = line.strip()\n",
    "        if prog.match(line):\n",
    "            #print(line)\n",
    "            i += 1\n",
    "    print(i)\n"
   ]
  },
  {
   "cell_type": "code",
   "execution_count": null,
   "metadata": {},
   "outputs": [],
   "source": []
  },
  {
   "cell_type": "code",
   "execution_count": null,
   "metadata": {},
   "outputs": [],
   "source": []
  }
 ],
 "metadata": {
  "kernelspec": {
   "display_name": "Python 3",
   "language": "python",
   "name": "python3"
  },
  "language_info": {
   "codemirror_mode": {
    "name": "ipython",
    "version": 3
   },
   "file_extension": ".py",
   "mimetype": "text/x-python",
   "name": "python",
   "nbconvert_exporter": "python",
   "pygments_lexer": "ipython3",
   "version": "3.6.9"
  }
 },
 "nbformat": 4,
 "nbformat_minor": 4
}
